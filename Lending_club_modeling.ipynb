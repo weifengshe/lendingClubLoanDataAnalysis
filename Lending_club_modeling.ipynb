{
 "cells": [
  {
   "cell_type": "markdown",
   "metadata": {},
   "source": [
    "# Loan Default Prediction Using Lending Club Loan Data Part 2"
   ]
  },
  {
   "cell_type": "code",
   "execution_count": 1,
   "metadata": {},
   "outputs": [
    {
     "name": "stderr",
     "output_type": "stream",
     "text": [
      "/usr/local/lib/python3.6/site-packages/sklearn/cross_validation.py:41: DeprecationWarning: This module was deprecated in version 0.18 in favor of the model_selection module into which all the refactored classes and functions are moved. Also note that the interface of the new CV iterators are different from that of this module. This module will be removed in 0.20.\n",
      "  \"This module will be removed in 0.20.\", DeprecationWarning)\n",
      "/usr/local/lib/python3.6/site-packages/sklearn/grid_search.py:42: DeprecationWarning: This module was deprecated in version 0.18 in favor of the model_selection module into which all the refactored classes and functions are moved. This module will be removed in 0.20.\n",
      "  DeprecationWarning)\n"
     ]
    }
   ],
   "source": [
    "import pandas as pd\n",
    "import numpy as np\n",
    "import matplotlib.pyplot as plt\n",
    "import seaborn as sns\n",
    "import warnings\n",
    "\n",
    "import time\n",
    "\n",
    "from sklearn.cross_validation import KFold, cross_val_score\n",
    "from sklearn.metrics import confusion_matrix,precision_recall_curve,auc,roc_auc_score,roc_curve,recall_score,classification_report \n",
    "from sklearn.grid_search import GridSearchCV \n",
    "\n",
    "from sklearn.linear_model import LogisticRegression\n",
    "from sklearn.svm import SVC\n",
    "from sklearn import neighbors\n",
    "from sklearn.naive_bayes import GaussianNB\n",
    "from sklearn.ensemble import RandomForestClassifier\n",
    "from xgboost.sklearn import XGBClassifier\n",
    "\n",
    "warnings.filterwarnings(\"ignore\")\n",
    "%matplotlib inline"
   ]
  },
  {
   "cell_type": "code",
   "execution_count": 2,
   "metadata": {},
   "outputs": [
    {
     "name": "stdout",
     "output_type": "stream",
     "text": [
      "test_current.csv       test_past_loan.csv      train_past.csv\r\n",
      "test_current_loan.csv  train_current.csv       train_past_loan.csv\r\n",
      "test_past.csv          train_current_loan.csv  Untitled.ipynb\r\n"
     ]
    }
   ],
   "source": [
    "ls"
   ]
  },
  {
   "cell_type": "markdown",
   "metadata": {},
   "source": [
    "### load the structured data"
   ]
  },
  {
   "cell_type": "code",
   "execution_count": 2,
   "metadata": {},
   "outputs": [],
   "source": [
    "test_current = pd.read_csv(\"test_current.csv\")\n",
    "test_current_loan = pd.read_csv(\"test_current_loan.csv\")\n",
    "test_past = pd.read_csv(\"test_past.csv\")\n",
    "test_past_loan = pd.read_csv(\"test_past_loan.csv\")\n",
    "\n",
    "train_current = pd.read_csv(\"train_current.csv\")\n",
    "train_current_loan = pd.read_csv(\"train_current_loan.csv\")\n",
    "train_past = pd.read_csv(\"train_past.csv\")\n",
    "train_past_loan = pd.read_csv(\"train_past_loan.csv\")"
   ]
  },
  {
   "cell_type": "code",
   "execution_count": 3,
   "metadata": {},
   "outputs": [],
   "source": [
    "test_current = test_current.iloc[:, 1:]\n",
    "test_current_loan = test_current_loan.iloc[:, 1:]\n",
    "test_past = test_past.iloc[:, 1:]\n",
    "test_past_loan = test_past_loan.iloc[:, 1:]\n",
    "\n",
    "train_current = train_current.iloc[:, 1:]\n",
    "train_current_loan = train_current_loan.iloc[:, 1:]\n",
    "train_past = train_past.iloc[:, 1:]\n",
    "train_past_loan = train_past_loan.iloc[:, 1:]"
   ]
  },
  {
   "cell_type": "markdown",
   "metadata": {},
   "source": [
    "### split data into train and test"
   ]
  },
  {
   "cell_type": "code",
   "execution_count": 4,
   "metadata": {},
   "outputs": [
    {
     "name": "stdout",
     "output_type": "stream",
     "text": [
      "Number past loan train dataset:  463490\n",
      "Number past loan test dataset:  115873\n",
      "Total number of past loan dataset:  579363\n",
      "------------------------------------------------------\n",
      "Number current loan train dataset:  212433\n",
      "Number current loan test dataset:  53109\n",
      "Total number of current loan dataset:  265542\n"
     ]
    }
   ],
   "source": [
    "# split past data to train and test\n",
    "from sklearn.cross_validation import train_test_split\n",
    "\n",
    "# Whole dataset\n",
    "X_train_past, X_test_past, y_train_past, y_test_past = train_test_split(train_past, train_past_loan, test_size = 0.2, random_state = 0)\n",
    "\n",
    "print(\"Number past loan train dataset: \", len(X_train_past))\n",
    "print(\"Number past loan test dataset: \", len(X_test_past))\n",
    "print(\"Total number of past loan dataset: \", len(X_train_past)+len(X_test_past))\n",
    "print(\"------------------------------------------------------\")\n",
    "X_train_current, X_test_current, y_train_current, y_test_current = train_test_split(train_current, train_current_loan, test_size = 0.2, random_state = 0)\n",
    "\n",
    "print(\"Number current loan train dataset: \", len(X_train_current))\n",
    "print(\"Number current loan test dataset: \", len(X_test_current))\n",
    "print(\"Total number of current loan dataset: \", len(X_train_current)+len(X_test_current))\n",
    "\n"
   ]
  },
  {
   "cell_type": "markdown",
   "metadata": {},
   "source": [
    "### Select a subset of training dataset to decrease training time"
   ]
  },
  {
   "cell_type": "code",
   "execution_count": 5,
   "metadata": {},
   "outputs": [
    {
     "name": "stdout",
     "output_type": "stream",
     "text": [
      "Number past loan train dataset:  46349\n"
     ]
    }
   ],
   "source": [
    "# Since it took about 30 minutes to train the model, I decide to try a smaller dataset 1/10 of train dataset\n",
    "number_train_past = len(X_train_past)\n",
    "sub_train_past_indices = np.random.choice(X_train_past.index, int(number_train_past/10), replace = False)\n",
    "sub_train_past_indices = np.array(sub_train_past_indices)\n",
    "\n",
    "X_sub_train_past = X_train_past.loc[sub_train_past_indices, :]\n",
    "y_sub_train_past = y_train_past.loc[sub_train_past_indices, :]\n",
    "\n",
    "print(\"Number past loan train dataset: \", len(X_sub_train_past))\n"
   ]
  },
  {
   "cell_type": "markdown",
   "metadata": {},
   "source": [
    "#### logistic regression model on last loan data"
   ]
  },
  {
   "cell_type": "code",
   "execution_count": 7,
   "metadata": {},
   "outputs": [
    {
     "name": "stdout",
     "output_type": "stream",
     "text": [
      "took 22.602675914764404 seconds to train the logistic regression model\n",
      "the auc value of the model test data is: 0.7469164227635243\n"
     ]
    }
   ],
   "source": [
    "\n",
    "t0 = time.time()\n",
    "lr = LogisticRegression()\n",
    "\n",
    "lr.fit(X_sub_train_past, y_sub_train_past.loan_status.values.ravel())\n",
    "\n",
    "y_test_past_pred = lr.predict(X_test_past)\n",
    "t1 = time.time()\n",
    "y_sub_test_auc = roc_auc_score(y_test_past.loan_status.values, y_test_past_pred)\n",
    "print(\"took {} seconds to train the logistic regression model\".format(t1 - t0))\n",
    "print(\"the auc value of the model test data is: {}\".format(y_sub_test_auc))\n"
   ]
  },
  {
   "cell_type": "code",
   "execution_count": 9,
   "metadata": {},
   "outputs": [],
   "source": [
    "def param_search(X, y, model, param_grid, nfolds):\n",
    "    gridSearch = GridSearchCV(model, param_grid, scoring='roc_auc', cv=nfolds)\n",
    "    gridSearch.fit(X, y)\n",
    "    return gridSearch.best_params_"
   ]
  },
  {
   "cell_type": "code",
   "execution_count": 9,
   "metadata": {},
   "outputs": [
    {
     "name": "stdout",
     "output_type": "stream",
     "text": [
      "{'C': 10, 'penalty': 'l1'}\n"
     ]
    }
   ],
   "source": [
    "lr = LogisticRegression()\n",
    "penalties = ['l1', 'l2']\n",
    "Cs = [0.001, 0.01, 0.1, 1, 10]\n",
    "param_grid = {'C': Cs, 'penalty': penalties}\n",
    "best_param = param_search(X_sub_train_past, y_sub_train_past.loan_status.values.ravel(), lr, param_grid, 5)\n",
    "print(best_param)"
   ]
  },
  {
   "cell_type": "code",
   "execution_count": 10,
   "metadata": {},
   "outputs": [
    {
     "name": "stdout",
     "output_type": "stream",
     "text": [
      "took 123.111 seconds to train the logistic regression model\n",
      "the auc value of the logistic regression model on current loan is: 0.891277308329626\n",
      "the auc value of the model on 2016 test data is: 0.868\n"
     ]
    }
   ],
   "source": [
    "t0 = time.time()\n",
    "lr = LogisticRegression(C = 10, penalty = 'l1')\n",
    "\n",
    "lr.fit(X_sub_train_past,y_sub_train_past.loan_status.values.ravel())\n",
    "\n",
    "y_test_past_pred = lr.predict(X_test_past)\n",
    "t1 = time.time()\n",
    "y_test_auc = roc_auc_score(y_test_past.loan_status.values, y_test_past_pred)\n",
    "print(\"took {} seconds to train the logistic regression model\".format(round(t1 - t0, 3)))\n",
    "print(\"the auc value of the logistic regression model on current loan is: {}\".format(y_test_auc))\n",
    "\n",
    "y_ls_test_past_pred = lr.predict(test_past)\n",
    "#y_test_past_pred.shape\n",
    "y_ls_test_auc = roc_auc_score(test_past_loan.loan_status.values, y_ls_test_past_pred)\n",
    "print(\"the auc value of the model on 2016 test data is: {}\".format(round(y_ls_test_auc, 3)))"
   ]
  },
  {
   "cell_type": "markdown",
   "metadata": {},
   "source": [
    "#### support vector machine model on last loan data"
   ]
  },
  {
   "cell_type": "code",
   "execution_count": 31,
   "metadata": {},
   "outputs": [
    {
     "name": "stdout",
     "output_type": "stream",
     "text": [
      "took 2480.234 seconds to train the support vector machine model\n",
      "the auc value of the model on the test data is: 0.5\n",
      "the auc value of the model on 2016 test data is: 0.5\n"
     ]
    }
   ],
   "source": [
    "t0 = time.time()\n",
    "svm = SVC()\n",
    "svm.fit(X_sub_train_past, y_sub_train_past.loan_status.values.ravel())\n",
    "y_test_past_pred = svm.predict(X_test_past)\n",
    "t1 = time.time()\n",
    "y_test_auc = roc_auc_score(y_test_past.loan_status.values, y_test_past_pred)\n",
    "print(\"took {} seconds to train the support vector machine model\".format(round(t1 - t0, 3)))\n",
    "print(\"the auc value of the model on the test data is: {}\".format(round(y_test_auc, 3)))\n",
    "\n",
    "y_ls_test_past_pred = svm.predict(test_past)\n",
    "#y_test_past_pred.shape\n",
    "y_ls_test_auc = roc_auc_score(test_past_loan.loan_status.values, y_ls_test_past_pred)\n",
    "print(\"the auc value of the model on 2016 test data is: {}\".format(round(y_ls_test_auc, 3)))\n"
   ]
  },
  {
   "cell_type": "markdown",
   "metadata": {},
   "source": [
    "#### naive bayes model on last loan data"
   ]
  },
  {
   "cell_type": "code",
   "execution_count": 30,
   "metadata": {},
   "outputs": [
    {
     "name": "stdout",
     "output_type": "stream",
     "text": [
      "took 0.315 seconds to train the naive bayes model\n",
      "the auc value of the model on the test data is: 0.869\n",
      "the auc value of the model on 2016 test data is: 0.875\n"
     ]
    }
   ],
   "source": [
    "# model with logistic regression model on last loan data\n",
    "\n",
    "t0 = time.time()\n",
    "naiveBayes = GaussianNB()\n",
    "naiveBayes.fit(X_sub_train_past, y_sub_train_past.loan_status.values.ravel())\n",
    "y_test_past_pred = naiveBayes.predict(X_test_past)\n",
    "t1 = time.time()\n",
    "y_test_auc = roc_auc_score(y_test_past.loan_status.values, y_test_past_pred)\n",
    "print(\"took {} seconds to train the naive bayes model\".format(round(t1 - t0, 3)))\n",
    "print(\"the auc value of the model on the test data is: {}\".format(round(y_test_auc, 3)))\n",
    "\n",
    "\n",
    "y_ls_test_past_pred = naiveBayes.predict(test_past)\n",
    "#y_test_past_pred.shape\n",
    "y_ls_test_auc = roc_auc_score(test_past_loan.loan_status.values, y_ls_test_past_pred)\n",
    "print(\"the auc value of the model on 2016 test data is: {}\".format(round(y_ls_test_auc, 3)))\n"
   ]
  },
  {
   "cell_type": "markdown",
   "metadata": {},
   "source": [
    "#### K nearest neighbors model on past data"
   ]
  },
  {
   "cell_type": "code",
   "execution_count": 31,
   "metadata": {},
   "outputs": [
    {
     "name": "stdout",
     "output_type": "stream",
     "text": [
      "took 54.059 seconds to train the K nearest neighbors model\n",
      "the auc value of the model on the test data is: 0.52\n"
     ]
    }
   ],
   "source": [
    "# model with K nearest neighbors\n",
    "t0 = time.time()\n",
    "knn = neighbors.KNeighborsClassifier()\n",
    "knn.fit(X_sub_train_past, y_sub_train_past.loan_status.values.ravel())\n",
    "y_test_past_pred = knn.predict(X_test_past)\n",
    "t1 = time.time()\n",
    "y_test_auc = roc_auc_score(y_test_past.loan_status.values, y_test_past_pred)\n",
    "print(\"took {} seconds to train the K nearest neighbors model\".format(round(t1 - t0, 3)))\n",
    "print(\"the auc value of the model on the test data is: {}\".format(round(y_test_auc, 3)))\n"
   ]
  },
  {
   "cell_type": "code",
   "execution_count": 32,
   "metadata": {},
   "outputs": [
    {
     "name": "stdout",
     "output_type": "stream",
     "text": [
      "the auc value of the model on 2016 test data is: 0.519\n"
     ]
    }
   ],
   "source": [
    "y_ls_test_past_pred = knn.predict(test_past)\n",
    "y_ls_test_auc = roc_auc_score(test_past_loan.loan_status.values, y_ls_test_past_pred)\n",
    "print(\"the auc value of the model on 2016 test data is: {}\".format(round(y_ls_test_auc, 3)))"
   ]
  },
  {
   "cell_type": "markdown",
   "metadata": {},
   "source": [
    "#### Random Forest model on past data"
   ]
  },
  {
   "cell_type": "code",
   "execution_count": 24,
   "metadata": {},
   "outputs": [
    {
     "name": "stdout",
     "output_type": "stream",
     "text": [
      "took 1.132 seconds to train the random forest model\n",
      "the auc of the model is: 0.8907550609305807\n",
      "the auc value of the model on 2016 test data is: 0.817\n"
     ]
    }
   ],
   "source": [
    "# Try to build model with random forest \n",
    "t0 = time.time()\n",
    "rf = RandomForestClassifier(max_depth=10, random_state=0)\n",
    "\n",
    "rf.fit(X_sub_train_past, y_sub_train_past.loan_status.values.ravel())\n",
    "y_test_past_pred = rf.predict(X_test_past)\n",
    "t1 = time.time()\n",
    "y_test_auc = roc_auc_score(y_test_past.loan_status.values, y_test_past_pred)\n",
    "print(\"took {} seconds to train the random forest model\".format(round(t1 - t0, 3)))\n",
    "print(\"the auc of the model is: {}\".format(y_test_auc))\n",
    "\n",
    "y_ls_test_past_pred = rf.predict(test_past)\n",
    "y_ls_test_auc = roc_auc_score(test_past_loan.loan_status.values, y_ls_test_past_pred)\n",
    "print(\"the auc value of the model on 2016 test data is: {}\".format(round(y_ls_test_auc, 3)))"
   ]
  },
  {
   "cell_type": "code",
   "execution_count": 13,
   "metadata": {},
   "outputs": [
    {
     "name": "stdout",
     "output_type": "stream",
     "text": [
      "{'n_estimators': 200}\n"
     ]
    }
   ],
   "source": [
    "n_estimators = [10, 50, 100, 200]\n",
    "max_depth = [5, 10, 15, 20, 25, 50] \n",
    "min_samples_split = [1, 2, 5 ,10]\n",
    "min_samples_leaf = [1, 2, 5 ,10]\n",
    "max_features=['auto', 'sqrt', 'log2']\n",
    "\n",
    "param_grid = {'n_estimators': n_estimators} \n",
    "#               'max_depth': max_depth}\n",
    "#               'min_samples_split': min_samples_split,\n",
    "#               'min_samples_leaf': min_samples_leaf, \n",
    "#               'max_features':max_features}\n",
    "rf = RandomForestClassifier()\n",
    "best_param = param_search(X_sub_train_past, y_sub_train_past.loan_status.values.ravel(), rf, param_grid, 5)\n",
    "print(best_param)"
   ]
  },
  {
   "cell_type": "code",
   "execution_count": 15,
   "metadata": {},
   "outputs": [
    {
     "name": "stdout",
     "output_type": "stream",
     "text": [
      "{'max_depth': 20}\n"
     ]
    }
   ],
   "source": [
    "param_grid =               {'max_depth': max_depth}\n",
    "#               'min_samples_split': min_samples_split,\n",
    "#               'min_samples_leaf': min_samples_leaf, \n",
    "#               'max_features':max_features}\n",
    "rf = RandomForestClassifier(n_estimators=200)\n",
    "best_param = param_search(X_sub_train_past, y_sub_train_past.loan_status.values.ravel(), rf, param_grid, 5)\n",
    "print(best_param)"
   ]
  },
  {
   "cell_type": "code",
   "execution_count": 21,
   "metadata": {},
   "outputs": [
    {
     "name": "stdout",
     "output_type": "stream",
     "text": [
      "{'max_features': 'auto', 'min_samples_leaf': 2, 'min_samples_split': 5}\n"
     ]
    }
   ],
   "source": [
    "min_samples_split = [ 2, 5 ,10]\n",
    "param_grid = {'min_samples_split': min_samples_split,\n",
    "              'min_samples_leaf': min_samples_leaf, \n",
    "               'max_features':max_features}\n",
    "rf = RandomForestClassifier(n_estimators=200, max_depth=20)\n",
    "best_param = param_search(X_sub_train_past, y_sub_train_past.loan_status.values.ravel(), rf, param_grid, 5)\n",
    "print(best_param)"
   ]
  },
  {
   "cell_type": "code",
   "execution_count": 25,
   "metadata": {},
   "outputs": [
    {
     "name": "stdout",
     "output_type": "stream",
     "text": [
      "took 33.321 seconds to train the random forest model\n",
      "the auc of the model is: 0.9103966441273205\n",
      "the auc value of the model on 2016 test data is: 0.874\n"
     ]
    }
   ],
   "source": [
    "t0 = time.time()\n",
    "rf = RandomForestClassifier(n_estimators=200, max_depth=20, \n",
    "                            max_features='auto', min_samples_leaf=2, min_samples_split=5, random_state=0)\n",
    "\n",
    "rf.fit(X_sub_train_past, y_sub_train_past.loan_status.values.ravel())\n",
    "y_test_past_pred = rf.predict(X_test_past)\n",
    "t1 = time.time()\n",
    "y_test_auc = roc_auc_score(y_test_past.loan_status.values, y_test_past_pred)\n",
    "print(\"took {} seconds to train the random forest model\".format(round(t1 - t0, 3)))\n",
    "print(\"the auc of the model is: {}\".format(y_test_auc))\n",
    "\n",
    "y_ls_test_past_pred = rf.predict(test_past)\n",
    "y_ls_test_auc = roc_auc_score(test_past_loan.loan_status.values, y_ls_test_past_pred)\n",
    "print(\"the auc value of the model on 2016 test data is: {}\".format(round(y_ls_test_auc, 3)))"
   ]
  },
  {
   "cell_type": "markdown",
   "metadata": {},
   "source": [
    "#### xgboost model on past data"
   ]
  },
  {
   "cell_type": "code",
   "execution_count": 7,
   "metadata": {},
   "outputs": [
    {
     "name": "stdout",
     "output_type": "stream",
     "text": [
      "took 30.729 seconds to train the xgboost model\n",
      "the auc of the model is: 0.9033172748235387\n",
      "the auc value of the model on 2016 test data is: 0.854\n"
     ]
    }
   ],
   "source": [
    "# next we will try xgboost\n",
    "t0 = time.time()\n",
    "xgb = XGBClassifier(max_depth=3, n_estimators=300, learning_rate=0.05)\n",
    "xgb.fit(X_sub_train_past, y_sub_train_past.loan_status.values.ravel())\n",
    "\n",
    "y_test_past_pred = xgb.predict(X_test_past)\n",
    "t1 = time.time()\n",
    "y_test_auc = roc_auc_score(y_test_past.loan_status.values, y_test_past_pred)\n",
    "print(\"took {} seconds to train the xgboost model\".format(round(t1 - t0, 3)))\n",
    "print(\"the auc of the model is: {}\".format(y_test_auc))\n",
    "\n",
    "y_ls_test_past_pred = xgb.predict(test_past)\n",
    "y_ls_test_auc = roc_auc_score(test_past_loan.loan_status.values, y_ls_test_past_pred)\n",
    "print(\"the auc value of the model on 2016 test data is: {}\".format(round(y_ls_test_auc, 3)))\n"
   ]
  },
  {
   "cell_type": "code",
   "execution_count": 10,
   "metadata": {},
   "outputs": [
    {
     "name": "stdout",
     "output_type": "stream",
     "text": [
      "{'gamma': 0.3}\n"
     ]
    }
   ],
   "source": [
    "# xgboost\n",
    "# search for gamma\n",
    "gammas = [i/10.0 for i in range(0,5)]\n",
    "param_grid = {'gamma': gammas}\n",
    "\n",
    "xgb = XGBClassifier(learning_rate =0.1, n_estimators=140, max_depth=3, min_child_weight=1, subsample=0.8, \n",
    "                    colsample_bytree=0.8, objective= 'binary:logistic', nthread=4, scale_pos_weight=1, seed=1)\n",
    "\n",
    "best_param = param_search(X_sub_train_past, y_sub_train_past.loan_status.values.ravel(), xgb, param_grid, 5)\n",
    "print(best_param)"
   ]
  },
  {
   "cell_type": "code",
   "execution_count": 12,
   "metadata": {},
   "outputs": [
    {
     "name": "stdout",
     "output_type": "stream",
     "text": [
      "{'max_depth': 5, 'min_child_weight': 3}\n"
     ]
    }
   ],
   "source": [
    "# search for max_depth and min_child_weight\n",
    "param_grid = {\n",
    " 'max_depth':list(range(3,10,2)),\n",
    " 'min_child_weight':list(range(1,6,2))\n",
    "}\n",
    "xgb = XGBClassifier(learning_rate =0.1, n_estimators=140, subsample=0.8, gamma=0.3, colsample_bytree=0.8, \n",
    "                    objective= 'binary:logistic', nthread=4, scale_pos_weight=1, seed=1)\n",
    "\n",
    "best_param = param_search(X_sub_train_past, y_sub_train_past.loan_status.values.ravel(), xgb, param_grid, 5)\n",
    "print(best_param)"
   ]
  },
  {
   "cell_type": "code",
   "execution_count": 19,
   "metadata": {},
   "outputs": [
    {
     "name": "stdout",
     "output_type": "stream",
     "text": [
      "took 19.339 seconds to train the xgboost model\n",
      "the auc of the model is: 0.9065167268567835\n",
      "the auc value of the model on 2016 test data is: 0.862\n"
     ]
    }
   ],
   "source": [
    "t0 = time.time()\n",
    "xgb = XGBClassifier(learning_rate =0.1, n_estimators=140, subsample=0.8, gamma=0.3, colsample_bytree=0.8, \n",
    "                    objective= 'binary:logistic', nthread=4, max_depth=5, min_child_weight=3,\n",
    "                    scale_pos_weight=1, seed=1)\n",
    "\n",
    "xgb.fit(X_sub_train_past, y_sub_train_past.loan_status.values.ravel())\n",
    "y_test_past_pred = xgb.predict(X_test_past)\n",
    "t1 = time.time()\n",
    "y_test_auc = roc_auc_score(y_test_past.loan_status.values, y_test_past_pred)\n",
    "print(\"took {} seconds to train the xgboost model\".format(round(t1 - t0, 3)))\n",
    "print(\"the auc of the model is: {}\".format(y_test_auc))\n",
    "\n",
    "y_ls_test_past_pred = xgb.predict(test_past)\n",
    "y_ls_test_auc = roc_auc_score(test_past_loan.loan_status.values, y_ls_test_past_pred)\n",
    "print(\"the auc value of the model on 2016 test data is: {}\".format(round(y_ls_test_auc, 3)))"
   ]
  },
  {
   "cell_type": "markdown",
   "metadata": {
    "collapsed": true
   },
   "source": [
    "## Next we will focus on current data"
   ]
  },
  {
   "cell_type": "markdown",
   "metadata": {},
   "source": [
    "#### Select a subset of training dataset to decrease training time"
   ]
  },
  {
   "cell_type": "code",
   "execution_count": 21,
   "metadata": {},
   "outputs": [
    {
     "name": "stdout",
     "output_type": "stream",
     "text": [
      "Number past loan train dataset:  21243\n"
     ]
    }
   ],
   "source": [
    "# Since it took about 30 minutes to train the model, I decide to try a smaller dataset 1/10 of train dataset\n",
    "number_train_current = len(X_train_current)\n",
    "sub_train_current_indices = np.random.choice(X_train_current.index, int(number_train_current/10), replace = False)\n",
    "sub_train_current_indices = np.array(sub_train_current_indices)\n",
    "\n",
    "X_sub_train_current = X_train_current.loc[sub_train_current_indices, :]\n",
    "y_sub_train_current = y_train_current.loc[sub_train_current_indices, :]\n",
    "\n",
    "print(\"Number past loan train dataset: \", len(X_sub_train_current))\n"
   ]
  },
  {
   "cell_type": "markdown",
   "metadata": {},
   "source": [
    "#### logistic regression model on current loan data"
   ]
  },
  {
   "cell_type": "code",
   "execution_count": 27,
   "metadata": {},
   "outputs": [
    {
     "name": "stdout",
     "output_type": "stream",
     "text": [
      "took 5.192833423614502 seconds to train the logistic regression model\n",
      "the auc value of the model test data is: 0.4999595869789246\n",
      "the auc value of the model on 2016 test data is: 0.5\n"
     ]
    }
   ],
   "source": [
    "# try a basic logistic regression model on current loan data\n",
    "t0 = time.time()\n",
    "lr_current = LogisticRegression()\n",
    "\n",
    "lr_current.fit(X_sub_train_current, y_sub_train_current.loan_status.values.ravel())\n",
    "\n",
    "y_test_current_pred = lr_current.predict(X_test_current)\n",
    "t1 = time.time()\n",
    "y_sub_test_auc = roc_auc_score(y_test_current.loan_status.values, y_test_current_pred)\n",
    "print(\"took {} seconds to train the logistic regression model\".format(t1 - t0))\n",
    "print(\"the auc value of the model test data is: {}\".format(y_sub_test_auc))\n",
    "\n",
    "\n",
    "y_ls_test_current_pred = lr_current.predict(test_current)\n",
    "#y_test_past_pred.shape\n",
    "y_ls_test_auc = roc_auc_score(test_current_loan.loan_status.values, y_ls_test_current_pred)\n",
    "print(\"the auc value of the model on 2016 test data is: {}\".format(round(y_ls_test_auc, 3)))"
   ]
  },
  {
   "cell_type": "code",
   "execution_count": 29,
   "metadata": {},
   "outputs": [
    {
     "name": "stdout",
     "output_type": "stream",
     "text": [
      "{'C': 1, 'penalty': 'l1'}\n"
     ]
    }
   ],
   "source": [
    "lr_current = LogisticRegression()\n",
    "penalties = ['l1', 'l2']\n",
    "Cs = [0.001, 0.01, 0.1, 1, 10]\n",
    "param_grid = {'C': Cs, 'penalty': penalties}\n",
    "best_param = param_search(X_sub_train_current, y_sub_train_current.loan_status.values.ravel(), lr_current, param_grid, 5)\n",
    "print(best_param)"
   ]
  },
  {
   "cell_type": "code",
   "execution_count": 31,
   "metadata": {},
   "outputs": [
    {
     "name": "stdout",
     "output_type": "stream",
     "text": [
      "took 7.563525438308716 seconds to train the logistic regression model\n",
      "the auc value of the model test data is: 0.6255976661591967\n",
      "the auc value of the model on 2016 test data is: 0.678\n"
     ]
    }
   ],
   "source": [
    "#  logistic regression model on current loan data\n",
    "t0 = time.time()\n",
    "lr_current = LogisticRegression(C=1, penalty='l1')\n",
    "\n",
    "lr_current.fit(X_sub_train_current, y_sub_train_current.loan_status.values.ravel())\n",
    "\n",
    "y_test_current_pred = lr_current.predict(X_test_current)\n",
    "t1 = time.time()\n",
    "y_sub_test_auc = roc_auc_score(y_test_current.loan_status.values, y_test_current_pred)\n",
    "print(\"took {} seconds to train the logistic regression model\".format(t1 - t0))\n",
    "print(\"the auc value of the model test data is: {}\".format(y_sub_test_auc))\n",
    "\n",
    "\n",
    "y_ls_test_current_pred = lr_current.predict(test_current)\n",
    "#y_test_past_pred.shape\n",
    "y_ls_test_auc = roc_auc_score(test_current_loan.loan_status.values, y_ls_test_current_pred)\n",
    "print(\"the auc value of the model on 2016 test data is: {}\".format(round(y_ls_test_auc, 3)))"
   ]
  },
  {
   "cell_type": "markdown",
   "metadata": {},
   "source": [
    "#### Naive Bayes model on current data"
   ]
  },
  {
   "cell_type": "code",
   "execution_count": 34,
   "metadata": {},
   "outputs": [
    {
     "name": "stdout",
     "output_type": "stream",
     "text": [
      "took 0.142 seconds to train the naive bayes model\n",
      "the auc value of the model on the test data is: 0.728\n",
      "the auc value of the model on 2016 test data is: 0.713\n"
     ]
    }
   ],
   "source": [
    "# Naive Bayes\n",
    "t0 = time.time()\n",
    "naiveBayes_current = GaussianNB()\n",
    "naiveBayes_current.fit(X_sub_train_current, y_sub_train_current.loan_status.values.ravel())\n",
    "y_test_current_pred = naiveBayes_current.predict(X_test_current)\n",
    "t1 = time.time()\n",
    "y_test_auc = roc_auc_score(y_test_current.loan_status.values, y_test_current_pred)\n",
    "print(\"took {} seconds to train the naive bayes model\".format(round(t1 - t0, 3)))\n",
    "print(\"the auc value of the model on the test data is: {}\".format(round(y_test_auc, 3)))\n",
    "\n",
    "\n",
    "y_ls_test_current_pred = naiveBayes_current.predict(test_current)\n",
    "#y_test_past_pred.shape\n",
    "y_ls_test_auc = roc_auc_score(test_current_loan.loan_status.values, y_ls_test_current_pred)\n",
    "print(\"the auc value of the model on 2016 test data is: {}\".format(round(y_ls_test_auc, 3)))\n"
   ]
  },
  {
   "cell_type": "markdown",
   "metadata": {},
   "source": [
    "#### K nearest neighbors on current loan data"
   ]
  },
  {
   "cell_type": "code",
   "execution_count": 36,
   "metadata": {},
   "outputs": [
    {
     "name": "stdout",
     "output_type": "stream",
     "text": [
      "took 20.955 seconds to train the K nearest neighbors model\n",
      "the auc value of the model on the test data is: 0.501\n"
     ]
    }
   ],
   "source": [
    "# model with K nearest neighbors\n",
    "\n",
    "t0 = time.time()\n",
    "knn_current = neighbors.KNeighborsClassifier()\n",
    "knn_current.fit(X_sub_train_current, y_sub_train_current.loan_status.values.ravel())\n",
    "y_test_current_pred = knn_current.predict(X_test_current)\n",
    "t1 = time.time()\n",
    "y_test_auc = roc_auc_score(y_test_current.loan_status.values, y_test_current_pred)\n",
    "print(\"took {} seconds to train the K nearest neighbors model\".format(round(t1 - t0, 3)))\n",
    "print(\"the auc value of the model on the test data is: {}\".format(round(y_test_auc, 3)))"
   ]
  },
  {
   "cell_type": "code",
   "execution_count": 37,
   "metadata": {},
   "outputs": [
    {
     "name": "stdout",
     "output_type": "stream",
     "text": [
      "the auc value of the model on 2016 test data is: 0.501\n"
     ]
    }
   ],
   "source": [
    "y_ls_test_current_pred = knn_current.predict(test_current)\n",
    "#y_test_past_pred.shape\n",
    "y_ls_test_auc = roc_auc_score(test_current_loan.loan_status.values, y_ls_test_current_pred)\n",
    "print(\"the auc value of the model on 2016 test data is: {}\".format(round(y_ls_test_auc, 3)))"
   ]
  },
  {
   "cell_type": "markdown",
   "metadata": {},
   "source": [
    "#### Random Forest model on current loan data"
   ]
  },
  {
   "cell_type": "code",
   "execution_count": 39,
   "metadata": {},
   "outputs": [
    {
     "name": "stdout",
     "output_type": "stream",
     "text": [
      "took 1.102 seconds to train the random forest model\n",
      "the auc of the model is: 0.6183250722940943\n",
      "the auc value of the model on 2016 test data is: 0.501\n"
     ]
    }
   ],
   "source": [
    "# build model with random forest \n",
    "t0 = time.time()\n",
    "rf_current = RandomForestClassifier()\n",
    "\n",
    "rf_current.fit(X_sub_train_current, y_sub_train_current.loan_status.values.ravel())\n",
    "y_test_current_pred = rf_current.predict(X_test_current)\n",
    "t1 = time.time()\n",
    "y_test_auc = roc_auc_score(y_test_current.loan_status.values, y_test_current_pred)\n",
    "print(\"took {} seconds to train the random forest model\".format(round(t1 - t0, 3)))\n",
    "print(\"the auc of the model is: {}\".format(y_test_auc))\n",
    "\n",
    "y_ls_test_pred = rf_current.predict(test_current)\n",
    "y_ls_test_auc = roc_auc_score(test_current_loan.loan_status.values, y_ls_test_current_pred)\n",
    "print(\"the auc value of the model on 2016 test data is: {}\".format(round(y_ls_test_auc, 3)))"
   ]
  },
  {
   "cell_type": "code",
   "execution_count": 40,
   "metadata": {},
   "outputs": [
    {
     "name": "stdout",
     "output_type": "stream",
     "text": [
      "{'max_depth': 10, 'n_estimators': 200}\n"
     ]
    }
   ],
   "source": [
    "n_estimators = [10, 50, 100, 200]\n",
    "max_depth = [5, 10, 15, 20, 25, 50] \n",
    "min_samples_split = [1, 2, 5 ,10]\n",
    "min_samples_leaf = [1, 2, 5 ,10]\n",
    "max_features=['auto', 'sqrt', 'log2']\n",
    "\n",
    "param_grid = {'n_estimators': n_estimators,\n",
    "              'max_depth': max_depth}\n",
    "#               'min_samples_split': min_samples_split,\n",
    "#               'min_samples_leaf': min_samples_leaf, \n",
    "#               'max_features':max_features}\n",
    "rf_current = RandomForestClassifier()\n",
    "best_param = param_search(X_sub_train_current, y_sub_train_current.loan_status.values.ravel(), rf_current, param_grid, 5)\n",
    "print(best_param)"
   ]
  },
  {
   "cell_type": "code",
   "execution_count": 41,
   "metadata": {},
   "outputs": [
    {
     "name": "stdout",
     "output_type": "stream",
     "text": [
      "{'max_features': 'sqrt', 'min_samples_leaf': 10, 'min_samples_split': 5}\n"
     ]
    }
   ],
   "source": [
    "min_samples_split = [2, 5 ,10]\n",
    "min_samples_leaf = [1, 2, 5 ,10]\n",
    "max_features=['auto', 'sqrt', 'log2']\n",
    "\n",
    "param_grid = {'min_samples_split': min_samples_split,\n",
    "              'min_samples_leaf': min_samples_leaf, \n",
    "              'max_features':max_features}\n",
    "rf_current = RandomForestClassifier(n_estimators=200, max_depth=10)\n",
    "best_param = param_search(X_sub_train_current, y_sub_train_current.loan_status.values.ravel(), rf_current, param_grid, 5)\n",
    "print(best_param)"
   ]
  },
  {
   "cell_type": "code",
   "execution_count": 29,
   "metadata": {},
   "outputs": [
    {
     "name": "stdout",
     "output_type": "stream",
     "text": [
      "took 15.423 seconds to train the random forest model\n",
      "the auc of the model is: 0.550114591009621\n",
      "the auc value of the model on 2016 test data is: 0.751\n"
     ]
    }
   ],
   "source": [
    "# build model with random forest \n",
    "t0 = time.time()\n",
    "rf_current = RandomForestClassifier(n_estimators=200, max_depth=10,max_features='sqrt',\n",
    "                                    min_samples_leaf=10, min_samples_split=5)\n",
    "\n",
    "rf_current.fit(X_sub_train_current, y_sub_train_current.loan_status.values.ravel())\n",
    "y_test_current_pred = rf_current.predict(X_test_current)\n",
    "t1 = time.time()\n",
    "y_test_auc = roc_auc_score(y_test_current.loan_status.values, y_test_current_pred)\n",
    "print(\"took {} seconds to train the random forest model\".format(round(t1 - t0, 3)))\n",
    "print(\"the auc of the model is: {}\".format(y_test_auc))\n",
    "\n",
    "y_ls_test_pred = rf_current.predict(test_current)\n",
    "y_ls_test_auc = roc_auc_score(test_current_loan.loan_status.values, y_ls_test_current_pred)\n",
    "print(\"the auc value of the model on 2016 test data is: {}\".format(round(y_ls_test_auc, 3)))"
   ]
  },
  {
   "cell_type": "code",
   "execution_count": 30,
   "metadata": {},
   "outputs": [
    {
     "name": "stdout",
     "output_type": "stream",
     "text": [
      "took 153.893 seconds to train the random forest model\n",
      "the auc of the model is: 0.551586735776654\n",
      "the auc value of the model on 2016 test data is: 0.751\n"
     ]
    }
   ],
   "source": [
    "# use the whole training data \n",
    "t0 = time.time()\n",
    "rf_current.fit(X_train_current, y_train_current.loan_status.values.ravel())\n",
    "y_test_current_pred = rf_current.predict(X_test_current)\n",
    "t1 = time.time()\n",
    "y_test_auc = roc_auc_score(y_test_current.loan_status.values, y_test_current_pred)\n",
    "print(\"took {} seconds to train the random forest model\".format(round(t1 - t0, 3)))\n",
    "print(\"the auc of the model is: {}\".format(y_test_auc))\n",
    "\n",
    "y_ls_test_pred = rf_current.predict(test_current)\n",
    "y_ls_test_auc = roc_auc_score(test_current_loan.loan_status.values, y_ls_test_current_pred)\n",
    "print(\"the auc value of the model on 2016 test data is: {}\".format(round(y_ls_test_auc, 3)))"
   ]
  },
  {
   "cell_type": "markdown",
   "metadata": {},
   "source": [
    "#### xgboost model on current loan data"
   ]
  },
  {
   "cell_type": "code",
   "execution_count": 22,
   "metadata": {},
   "outputs": [
    {
     "name": "stdout",
     "output_type": "stream",
     "text": [
      "{'gamma': 0.3}\n"
     ]
    }
   ],
   "source": [
    "# xgboost\n",
    "# search for gamma\n",
    "gammas = [i/10.0 for i in range(0,5)]\n",
    "param_grid = {'gamma': gammas}\n",
    "\n",
    "xgb_current = XGBClassifier(learning_rate =0.1, n_estimators=140, max_depth=3, min_child_weight=1, subsample=0.8, \n",
    "                    colsample_bytree=0.8, objective= 'binary:logistic', nthread=4, scale_pos_weight=1, seed=1)\n",
    "\n",
    "best_param = param_search(X_sub_train_current, y_sub_train_current.loan_status.values.ravel(), xgb_current, param_grid, 5)\n",
    "print(best_param)"
   ]
  },
  {
   "cell_type": "code",
   "execution_count": 23,
   "metadata": {},
   "outputs": [
    {
     "name": "stdout",
     "output_type": "stream",
     "text": [
      "{'max_depth': 3, 'min_child_weight': 1}\n"
     ]
    }
   ],
   "source": [
    "# search for max_depth and min_child_weight\n",
    "param_grid = {\n",
    " 'max_depth':list(range(3,10,2)),\n",
    " 'min_child_weight':list(range(1,6,2))\n",
    "}\n",
    "xgb_current = XGBClassifier(learning_rate =0.1, n_estimators=140, subsample=0.8, gamma=0.3, colsample_bytree=0.8, \n",
    "                    objective= 'binary:logistic', nthread=4, scale_pos_weight=1, seed=1)\n",
    "\n",
    "best_param = param_search(X_sub_train_current, y_sub_train_current.loan_status.values.ravel(), xgb_current, param_grid, 5)\n",
    "print(best_param)"
   ]
  },
  {
   "cell_type": "code",
   "execution_count": 26,
   "metadata": {},
   "outputs": [
    {
     "name": "stdout",
     "output_type": "stream",
     "text": [
      "took 4.976 seconds to train the xgboost model\n",
      "the auc of the model is: 0.612634053730786\n",
      "the auc value of the model on 2016 test data is: 0.667\n"
     ]
    }
   ],
   "source": [
    "t0 = time.time()\n",
    "xgb_current = XGBClassifier(learning_rate =0.1, n_estimators=140, subsample=0.8, gamma=0.3, colsample_bytree=0.8, \n",
    "                    objective= 'binary:logistic', nthread=4, max_depth=3, min_child_weight=1,\n",
    "                    scale_pos_weight=1, seed=1)\n",
    "\n",
    "xgb_current.fit(X_sub_train_current, y_sub_train_current.loan_status.values.ravel())\n",
    "y_test_current_pred = xgb_current.predict(X_test_current)\n",
    "t1 = time.time()\n",
    "y_test_auc = roc_auc_score(y_test_current.loan_status.values, y_test_current_pred)\n",
    "print(\"took {} seconds to train the xgboost model\".format(round(t1 - t0, 3)))\n",
    "print(\"the auc of the model is: {}\".format(y_test_auc))\n",
    "\n",
    "y_ls_test_current_pred = xgb_current.predict(test_current)\n",
    "y_ls_test_auc = roc_auc_score(test_current_loan.loan_status.values, y_ls_test_current_pred)\n",
    "\n",
    "print(\"the auc value of the model on 2016 test data is: {}\".format(round(y_ls_test_auc, 3)))"
   ]
  },
  {
   "cell_type": "code",
   "execution_count": 27,
   "metadata": {},
   "outputs": [
    {
     "name": "stdout",
     "output_type": "stream",
     "text": [
      "took 62.609 seconds to train the xgboost model\n",
      "the auc of the model is: 0.6317687428502723\n",
      "the auc value of the model on 2016 test data is: 0.751\n"
     ]
    }
   ],
   "source": [
    "# use the all train data to train the model\n",
    "t0 = time.time()\n",
    "\n",
    "xgb_current.fit(X_train_current, y_train_current.loan_status.values.ravel())\n",
    "y_test_current_pred = xgb_current.predict(X_test_current)\n",
    "t1 = time.time()\n",
    "y_test_auc = roc_auc_score(y_test_current.loan_status.values, y_test_current_pred)\n",
    "print(\"took {} seconds to train the xgboost model\".format(round(t1 - t0, 3)))\n",
    "print(\"the auc of the model is: {}\".format(y_test_auc))\n",
    "\n",
    "y_ls_test_current_pred = xgb_current.predict(test_current)\n",
    "y_ls_test_auc = roc_auc_score(test_current_loan.loan_status.values, y_ls_test_current_pred)\n",
    "print(\"the auc value of the model on 2016 test data is: {}\".format(round(y_ls_test_auc, 3)))"
   ]
  },
  {
   "cell_type": "code",
   "execution_count": 65,
   "metadata": {},
   "outputs": [],
   "source": [
    "# read in created features\n",
    "train_trans_2_past = pd.read_csv(\"train_trans_2_past.csv\")\n",
    "train_trans_2_current = pd.read_csv(\"train_trans_2_current.csv\")\n",
    "\n",
    "test_trans_2_past = pd.read_csv(\"test_trans_2_past.csv\")\n",
    "test_trans_2_current = pd.read_csv(\"test_trans_2_current.csv\")\n",
    "\n",
    "train_trans_3_past = pd.read_csv(\"train_trans_3_past.csv\")\n",
    "train_trans_3_current = pd.read_csv(\"train_trans_3_current.csv\")\n",
    "\n",
    "test_trans_3_past =pd.read_csv(\"test_trans_3_past.csv\")\n",
    "test_trans_3_current = pd.read_csv(\"test_trans_3_current.csv\")\n"
   ]
  },
  {
   "cell_type": "code",
   "execution_count": 66,
   "metadata": {},
   "outputs": [],
   "source": [
    "train_trans_2_past = train_trans_2_past.iloc[:, 1:]\n",
    "train_trans_2_current = train_trans_2_current.iloc[:, 1:]\n",
    "\n",
    "test_trans_2_past = test_trans_2_past.iloc[:, 1:]\n",
    "test_trans_2_current = test_trans_2_current.iloc[:, 1:]\n",
    "\n",
    "train_trans_3_past = train_trans_3_past.iloc[:, 1:]\n",
    "train_trans_3_current = train_trans_3_current.iloc[:, 1:]\n",
    "\n",
    "test_trans_3_past =test_trans_3_past.iloc[:, 1:]\n",
    "test_trans_3_current = test_trans_3_current.iloc[:, 1:]\n",
    "\n"
   ]
  },
  {
   "cell_type": "code",
   "execution_count": 83,
   "metadata": {},
   "outputs": [],
   "source": [
    "# Whole dataset\n",
    "\n",
    "# add the squared features \n",
    "X_train_past_idx = X_train_past.index\n",
    "X_test_past_idx = X_test_past.index\n",
    "\n",
    "# only add squared selected features\n",
    "X_train_trans_2_past = train_trans_2_past.iloc[X_train_past_idx, :]\n",
    "X_test_trans_2_past = train_trans_2_past.iloc[X_test_past_idx, :]\n",
    "\n",
    "X_train_past_assem_2 = pd.concat([X_train_past, X_train_trans_2_past], axis=1)\n",
    "X_test_past_assem_2 = pd.concat([X_test_past, X_test_trans_2_past], axis=1) \n",
    "\n",
    "test_past_assem_2 = pd.concat([test_past, test_trans_2_past], axis=1)"
   ]
  },
  {
   "cell_type": "code",
   "execution_count": 87,
   "metadata": {},
   "outputs": [],
   "source": [
    "# only add cubic selected features\n",
    "X_train_trans_3_past = train_trans_3_past.iloc[X_train_past_idx, :]\n",
    "X_test_trans_3_past = train_trans_3_past.iloc[X_test_past_idx, :]\n",
    "\n",
    "X_train_past_assem_3 = pd.concat([X_train_past, X_train_trans_3_past], axis=1)\n",
    "X_test_past_assem_3 = pd.concat([X_test_past, X_test_trans_3_past], axis=1) \n",
    "\n",
    "test_past_assem_3 = pd.concat([test_past, test_trans_3_past], axis=1)\n",
    "\n",
    "# Add both squared and cubic selected features\n",
    "X_train_past_assem_bt = pd.concat([X_train_past, X_train_trans_2_past, X_train_trans_3_past], axis=1)\n",
    "X_test_past_assem_bt = pd.concat([X_test_past,X_test_trans_2_past, X_test_trans_3_past], axis=1) \n",
    "\n",
    "test_past_assem_bt = pd.concat([test_past, test_trans_2_past, test_trans_3_past], axis=1)\n"
   ]
  },
  {
   "cell_type": "code",
   "execution_count": 95,
   "metadata": {},
   "outputs": [],
   "source": [
    "\n",
    "#X_train_current, X_test_current, y_train_current, y_test_current = train_test_split(train_current, train_current_loan, test_size = 0.2, random_state = 0)\n",
    "\n",
    "X_train_current_idx = X_train_current.index\n",
    "X_test_current_idx = X_test_current.index\n",
    "\n",
    "# only add squared selected features\n",
    "X_train_trans_2_current = train_trans_2_current.iloc[X_train_current_idx, :]\n",
    "X_test_trans_2_current = train_trans_2_current.iloc[X_test_current_idx, :]\n",
    "\n",
    "X_train_current_assem_2 = pd.concat([X_train_current, X_train_trans_2_current], axis=1)\n",
    "X_test_current_assem_2 = pd.concat([X_test_current, X_test_trans_2_current], axis=1) \n",
    "\n",
    "test_current_assem_2 = pd.concat([test_current, test_trans_2_current], axis=1)\n",
    "\n",
    "# only add cubic selected features\n",
    "X_train_trans_3_current = train_trans_3_current.iloc[X_train_current_idx, :]\n",
    "X_test_trans_3_current = train_trans_3_current.iloc[X_test_current_idx, :]\n",
    "\n",
    "X_train_current_assem_3 = pd.concat([X_train_current, X_train_trans_3_current], axis=1)\n",
    "X_test_current_assem_3 = pd.concat([X_test_current, X_test_trans_3_current], axis=1) \n",
    "\n",
    "test_current_assem_3 = pd.concat([test_current, test_trans_3_current], axis=1)\n",
    "\n",
    "# Add both squared and cubic selected features\n",
    "X_train_current_assem_bt = pd.concat([X_train_current, X_train_trans_2_current, X_train_trans_3_current], axis=1)\n",
    "X_test_current_assem_bt = pd.concat([X_test_current, X_test_trans_2_current, X_test_trans_3_current], axis=1) \n",
    "\n",
    "test_current_assem_bt = pd.concat([test_current, test_trans_2_current, test_trans_3_current], axis=1)\n"
   ]
  },
  {
   "cell_type": "markdown",
   "metadata": {},
   "source": [
    "### Naive Bayes on past data with different selected features added "
   ]
  },
  {
   "cell_type": "code",
   "execution_count": 35,
   "metadata": {},
   "outputs": [
    {
     "name": "stdout",
     "output_type": "stream",
     "text": [
      "took 4.531 seconds to train the naive bayes model\n",
      "the auc value of the model on the test data is: 0.886\n",
      "the auc value of the model on 2016 test data is: 0.9\n"
     ]
    }
   ],
   "source": [
    "t0 = time.time()\n",
    "naiveBayes = GaussianNB()\n",
    "naiveBayes.fit(X_train_past, y_train_past.loan_status.values.ravel())\n",
    "y_test_past_pred = naiveBayes.predict(X_test_past)\n",
    "t1 = time.time()\n",
    "y_test_auc = roc_auc_score(y_test_past.loan_status.values, y_test_past_pred)\n",
    "print(\"took {} seconds to train the naive bayes model\".format(round(t1 - t0, 3)))\n",
    "print(\"the auc value of the model on the test data is: {}\".format(round(y_test_auc, 3)))\n",
    "\n",
    "\n",
    "y_ls_test_past_pred = naiveBayes.predict(test_past)\n",
    "#y_test_past_pred.shape\n",
    "y_ls_test_auc = roc_auc_score(test_past_loan.loan_status.values, y_ls_test_past_pred)\n",
    "print(\"the auc value of the model on 2016 test data is: {}\".format(round(y_ls_test_auc, 3)))\n"
   ]
  },
  {
   "cell_type": "code",
   "execution_count": 86,
   "metadata": {},
   "outputs": [
    {
     "name": "stdout",
     "output_type": "stream",
     "text": [
      "took 4.304 seconds to train the naive bayes model\n",
      "the auc value of the model on the test data is: 0.899\n",
      "the auc value of the model on 2016 test data is: 0.922\n"
     ]
    }
   ],
   "source": [
    "# with selected sqaured features \n",
    "t0 = time.time()\n",
    "naiveBayes = GaussianNB()\n",
    "naiveBayes.fit(X_train_past_assem_2, y_train_past.loan_status.values.ravel())\n",
    "y_test_past_pred = naiveBayes.predict(X_test_past_assem_2)\n",
    "t1 = time.time()\n",
    "y_test_auc = roc_auc_score(y_test_past.loan_status.values, y_test_past_pred)\n",
    "print(\"took {} seconds to train the naive bayes model\".format(round(t1 - t0, 3)))\n",
    "print(\"the auc value of the model on the test data is: {}\".format(round(y_test_auc, 3)))\n",
    "\n",
    "\n",
    "y_ls_test_past_pred = naiveBayes.predict(test_past_assem_2)\n",
    "\n",
    "y_ls_test_auc = roc_auc_score(test_past_loan.loan_status.values, y_ls_test_past_pred)\n",
    "print(\"the auc value of the model on 2016 test data is: {}\".format(round(y_ls_test_auc, 3)))\n"
   ]
  },
  {
   "cell_type": "code",
   "execution_count": 88,
   "metadata": {},
   "outputs": [
    {
     "name": "stdout",
     "output_type": "stream",
     "text": [
      "took 4.004 seconds to train the naive bayes model\n",
      "the auc value of the model on the test data is: 0.872\n",
      "the auc value of the model on 2016 test data is: 0.904\n"
     ]
    }
   ],
   "source": [
    "# with selected cubic features \n",
    "t0 = time.time()\n",
    "naiveBayes = GaussianNB()\n",
    "naiveBayes.fit(X_train_past_assem_3, y_train_past.loan_status.values.ravel())\n",
    "y_test_past_pred = naiveBayes.predict(X_test_past_assem_3)\n",
    "t1 = time.time()\n",
    "y_test_auc = roc_auc_score(y_test_past.loan_status.values, y_test_past_pred)\n",
    "print(\"took {} seconds to train the naive bayes model\".format(round(t1 - t0, 3)))\n",
    "print(\"the auc value of the model on the test data is: {}\".format(round(y_test_auc, 3)))\n",
    "\n",
    "\n",
    "y_ls_test_past_pred = naiveBayes.predict(test_past_assem_3)\n",
    "\n",
    "y_ls_test_auc = roc_auc_score(test_past_loan.loan_status.values, y_ls_test_past_pred)\n",
    "print(\"the auc value of the model on 2016 test data is: {}\".format(round(y_ls_test_auc, 3)))\n"
   ]
  },
  {
   "cell_type": "code",
   "execution_count": 89,
   "metadata": {},
   "outputs": [
    {
     "name": "stdout",
     "output_type": "stream",
     "text": [
      "took 3.912 seconds to train the naive bayes model\n",
      "the auc value of the model on the test data is: 0.885\n",
      "the auc value of the model on 2016 test data is: 0.927\n"
     ]
    }
   ],
   "source": [
    "# with both selected squared and cubic features \n",
    "t0 = time.time()\n",
    "naiveBayes = GaussianNB()\n",
    "naiveBayes.fit(X_train_past_assem_bt, y_train_past.loan_status.values.ravel())\n",
    "y_test_past_pred = naiveBayes.predict(X_test_past_assem_bt)\n",
    "t1 = time.time()\n",
    "y_test_auc = roc_auc_score(y_test_past.loan_status.values, y_test_past_pred)\n",
    "print(\"took {} seconds to train the naive bayes model\".format(round(t1 - t0, 3)))\n",
    "print(\"the auc value of the model on the test data is: {}\".format(round(y_test_auc, 3)))\n",
    "\n",
    "\n",
    "y_ls_test_past_pred = naiveBayes.predict(test_past_assem_bt)\n",
    "\n",
    "y_ls_test_auc = roc_auc_score(test_past_loan.loan_status.values, y_ls_test_past_pred)\n",
    "print(\"the auc value of the model on 2016 test data is: {}\".format(round(y_ls_test_auc, 3)))"
   ]
  },
  {
   "cell_type": "markdown",
   "metadata": {},
   "source": [
    "### xgboost on past data with different selected features added "
   ]
  },
  {
   "cell_type": "code",
   "execution_count": 91,
   "metadata": {},
   "outputs": [
    {
     "name": "stdout",
     "output_type": "stream",
     "text": [
      "took 190.826 seconds to train the xgboost model\n",
      "the auc of the model is: 0.9129111234301663\n",
      "the auc value of the model on 2016 test data is: 0.866\n"
     ]
    }
   ],
   "source": [
    "t0 = time.time()\n",
    "xgb = XGBClassifier(learning_rate =0.1, n_estimators=140, subsample=0.8, gamma=0.3, colsample_bytree=0.8, \n",
    "                    objective= 'binary:logistic', nthread=4, max_depth=5, min_child_weight=3,\n",
    "                    scale_pos_weight=1, seed=1)\n",
    "\n",
    "xgb.fit(X_train_past, y_train_past.loan_status.values.ravel())\n",
    "y_test_past_pred = xgb.predict(X_test_past)\n",
    "t1 = time.time()\n",
    "y_test_auc = roc_auc_score(y_test_past.loan_status.values, y_test_past_pred)\n",
    "print(\"took {} seconds to train the xgboost model\".format(round(t1 - t0, 3)))\n",
    "print(\"the auc of the model is: {}\".format(y_test_auc))\n",
    "\n",
    "y_ls_test_past_pred = xgb.predict(test_past)\n",
    "y_ls_test_auc = roc_auc_score(test_past_loan.loan_status.values, y_ls_test_past_pred)\n",
    "print(\"the auc value of the model on 2016 test data is: {}\".format(round(y_ls_test_auc, 3)))\n"
   ]
  },
  {
   "cell_type": "code",
   "execution_count": 92,
   "metadata": {},
   "outputs": [
    {
     "name": "stdout",
     "output_type": "stream",
     "text": [
      "took 209.199 seconds to train the xgboost model\n",
      "the auc of the model is: 0.9119202629698645\n",
      "the auc value of the model on 2016 test data is: 0.868\n"
     ]
    }
   ],
   "source": [
    "# with selected sqaured features \n",
    "t0 = time.time()\n",
    "xgb = XGBClassifier(learning_rate =0.1, n_estimators=140, subsample=0.8, gamma=0.3, colsample_bytree=0.8, \n",
    "                    objective= 'binary:logistic', nthread=4, max_depth=5, min_child_weight=3,\n",
    "                    scale_pos_weight=1, seed=1)\n",
    "\n",
    "xgb.fit(X_train_past_assem_2, y_train_past.loan_status.values.ravel())\n",
    "y_test_past_pred = xgb.predict(X_test_past_assem_2)\n",
    "t1 = time.time()\n",
    "y_test_auc = roc_auc_score(y_test_past.loan_status.values, y_test_past_pred)\n",
    "print(\"took {} seconds to train the xgboost model\".format(round(t1 - t0, 3)))\n",
    "print(\"the auc of the model is: {}\".format(y_test_auc))\n",
    "\n",
    "y_ls_test_past_pred = xgb.predict(test_past_assem_2)\n",
    "y_ls_test_auc = roc_auc_score(test_past_loan.loan_status.values, y_ls_test_past_pred)\n",
    "print(\"the auc value of the model on 2016 test data is: {}\".format(round(y_ls_test_auc, 3)))\n"
   ]
  },
  {
   "cell_type": "code",
   "execution_count": 93,
   "metadata": {},
   "outputs": [
    {
     "name": "stdout",
     "output_type": "stream",
     "text": [
      "took 212.455 seconds to train the xgboost model\n",
      "the auc of the model is: 0.9119202629698645\n",
      "the auc value of the model on 2016 test data is: 0.868\n"
     ]
    }
   ],
   "source": [
    "# with selected cubic features \n",
    "t0 = time.time()\n",
    "xgb = XGBClassifier(learning_rate =0.1, n_estimators=140, subsample=0.8, gamma=0.3, colsample_bytree=0.8, \n",
    "                    objective= 'binary:logistic', nthread=4, max_depth=5, min_child_weight=3,\n",
    "                    scale_pos_weight=1, seed=1)\n",
    "\n",
    "xgb.fit(X_train_past_assem_3, y_train_past.loan_status.values.ravel())\n",
    "y_test_past_pred = xgb.predict(X_test_past_assem_3)\n",
    "t1 = time.time()\n",
    "y_test_auc = roc_auc_score(y_test_past.loan_status.values, y_test_past_pred)\n",
    "print(\"took {} seconds to train the xgboost model\".format(round(t1 - t0, 3)))\n",
    "print(\"the auc of the model is: {}\".format(y_test_auc))\n",
    "\n",
    "y_ls_test_past_pred = xgb.predict(test_past_assem_3)\n",
    "y_ls_test_auc = roc_auc_score(test_past_loan.loan_status.values, y_ls_test_past_pred)\n",
    "print(\"the auc value of the model on 2016 test data is: {}\".format(round(y_ls_test_auc, 3)))"
   ]
  },
  {
   "cell_type": "code",
   "execution_count": 94,
   "metadata": {},
   "outputs": [
    {
     "name": "stdout",
     "output_type": "stream",
     "text": [
      "took 217.173 seconds to train the xgboost model\n",
      "the auc of the model is: 0.9129756617423259\n",
      "the auc value of the model on 2016 test data is: 0.865\n"
     ]
    }
   ],
   "source": [
    "# with selected cubic features \n",
    "t0 = time.time()\n",
    "xgb = XGBClassifier(learning_rate =0.1, n_estimators=140, subsample=0.8, gamma=0.3, colsample_bytree=0.8, \n",
    "                    objective= 'binary:logistic', nthread=4, max_depth=5, min_child_weight=3,\n",
    "                    scale_pos_weight=1, seed=1)\n",
    "\n",
    "xgb.fit(X_train_past_assem_bt, y_train_past.loan_status.values.ravel())\n",
    "y_test_past_pred = xgb.predict(X_test_past_assem_bt)\n",
    "t1 = time.time()\n",
    "y_test_auc = roc_auc_score(y_test_past.loan_status.values, y_test_past_pred)\n",
    "print(\"took {} seconds to train the xgboost model\".format(round(t1 - t0, 3)))\n",
    "print(\"the auc of the model is: {}\".format(y_test_auc))\n",
    "\n",
    "y_ls_test_past_pred = xgb.predict(test_past_assem_bt)\n",
    "y_ls_test_auc = roc_auc_score(test_past_loan.loan_status.values, y_ls_test_past_pred)\n",
    "print(\"the auc value of the model on 2016 test data is: {}\".format(round(y_ls_test_auc, 3)))"
   ]
  },
  {
   "cell_type": "markdown",
   "metadata": {},
   "source": [
    "### Naive Bayes on current data with different selected features added "
   ]
  },
  {
   "cell_type": "code",
   "execution_count": 97,
   "metadata": {},
   "outputs": [
    {
     "name": "stdout",
     "output_type": "stream",
     "text": [
      "took 1.028 seconds to train the naive bayes model\n",
      "the auc value of the model on the test data is: 0.713\n",
      "the auc value of the model on 2016 test data is: 0.703\n"
     ]
    }
   ],
   "source": [
    "# Naive Bayes\n",
    "t0 = time.time()\n",
    "naiveBayes_current = GaussianNB()\n",
    "naiveBayes_current.fit(X_train_current, y_train_current.loan_status.values.ravel())\n",
    "y_test_current_pred = naiveBayes_current.predict(X_test_current)\n",
    "t1 = time.time()\n",
    "y_test_auc = roc_auc_score(y_test_current.loan_status.values, y_test_current_pred)\n",
    "print(\"took {} seconds to train the naive bayes model\".format(round(t1 - t0, 3)))\n",
    "print(\"the auc value of the model on the test data is: {}\".format(round(y_test_auc, 3)))\n",
    "\n",
    "\n",
    "y_ls_test_current_pred = naiveBayes_current.predict(test_current)\n",
    "y_ls_test_auc = roc_auc_score(test_current_loan.loan_status.values, y_ls_test_current_pred)\n",
    "print(\"the auc value of the model on 2016 test data is: {}\".format(round(y_ls_test_auc, 3)))\n"
   ]
  },
  {
   "cell_type": "code",
   "execution_count": 98,
   "metadata": {},
   "outputs": [
    {
     "name": "stdout",
     "output_type": "stream",
     "text": [
      "took 2.33 seconds to train the naive bayes model\n",
      "the auc value of the model on the test data is: 0.745\n",
      "the auc value of the model on 2016 test data is: 0.736\n"
     ]
    }
   ],
   "source": [
    "# with selected sqaured features \n",
    "#Naive Bayes\n",
    "t0 = time.time()\n",
    "naiveBayes_current = GaussianNB()\n",
    "naiveBayes_current.fit(X_train_current_assem_2, y_train_current.loan_status.values.ravel())\n",
    "y_test_current_pred = naiveBayes_current.predict(X_test_current_assem_2)\n",
    "t1 = time.time()\n",
    "y_test_auc = roc_auc_score(y_test_current.loan_status.values, y_test_current_pred)\n",
    "print(\"took {} seconds to train the naive bayes model\".format(round(t1 - t0, 3)))\n",
    "print(\"the auc value of the model on the test data is: {}\".format(round(y_test_auc, 3)))\n",
    "\n",
    "\n",
    "y_ls_test_current_pred = naiveBayes_current.predict(test_current_assem_2)\n",
    "y_ls_test_auc = roc_auc_score(test_current_loan.loan_status.values, y_ls_test_current_pred)\n",
    "print(\"the auc value of the model on 2016 test data is: {}\".format(round(y_ls_test_auc, 3)))\n"
   ]
  },
  {
   "cell_type": "code",
   "execution_count": 99,
   "metadata": {},
   "outputs": [
    {
     "name": "stdout",
     "output_type": "stream",
     "text": [
      "took 2.079 seconds to train the naive bayes model\n",
      "the auc value of the model on the test data is: 0.7\n",
      "the auc value of the model on 2016 test data is: 0.685\n"
     ]
    }
   ],
   "source": [
    "# with selected cubic features \n",
    "#Naive Bayes\n",
    "t0 = time.time()\n",
    "naiveBayes_current = GaussianNB()\n",
    "naiveBayes_current.fit(X_train_current_assem_3, y_train_current.loan_status.values.ravel())\n",
    "y_test_current_pred = naiveBayes_current.predict(X_test_current_assem_3)\n",
    "t1 = time.time()\n",
    "y_test_auc = roc_auc_score(y_test_current.loan_status.values, y_test_current_pred)\n",
    "print(\"took {} seconds to train the naive bayes model\".format(round(t1 - t0, 3)))\n",
    "print(\"the auc value of the model on the test data is: {}\".format(round(y_test_auc, 3)))\n",
    "\n",
    "y_ls_test_current_pred = naiveBayes_current.predict(test_current_assem_3)\n",
    "y_ls_test_auc = roc_auc_score(test_current_loan.loan_status.values, y_ls_test_current_pred)\n",
    "print(\"the auc value of the model on 2016 test data is: {}\".format(round(y_ls_test_auc, 3)))\n"
   ]
  },
  {
   "cell_type": "code",
   "execution_count": 100,
   "metadata": {},
   "outputs": [
    {
     "name": "stdout",
     "output_type": "stream",
     "text": [
      "took 2.096 seconds to train the naive bayes model\n",
      "the auc value of the model on the test data is: 0.737\n",
      "the auc value of the model on 2016 test data is: 0.727\n"
     ]
    }
   ],
   "source": [
    "# with both selected squared and cubic features \n",
    "# Naive Bayes\n",
    "t0 = time.time()\n",
    "naiveBayes_current = GaussianNB()\n",
    "naiveBayes_current.fit(X_train_current_assem_bt, y_train_current.loan_status.values.ravel())\n",
    "y_test_current_pred = naiveBayes_current.predict(X_test_current_assem_bt)\n",
    "t1 = time.time()\n",
    "y_test_auc = roc_auc_score(y_test_current.loan_status.values, y_test_current_pred)\n",
    "print(\"took {} seconds to train the naive bayes model\".format(round(t1 - t0, 3)))\n",
    "print(\"the auc value of the model on the test data is: {}\".format(round(y_test_auc, 3)))\n",
    "\n",
    "y_ls_test_current_pred = naiveBayes_current.predict(test_current_assem_bt)\n",
    "y_ls_test_auc = roc_auc_score(test_current_loan.loan_status.values, y_ls_test_current_pred)\n",
    "print(\"the auc value of the model on 2016 test data is: {}\".format(round(y_ls_test_auc, 3)))"
   ]
  },
  {
   "cell_type": "markdown",
   "metadata": {},
   "source": [
    "### xgboost on current data with different selected features added "
   ]
  },
  {
   "cell_type": "code",
   "execution_count": 101,
   "metadata": {},
   "outputs": [
    {
     "name": "stdout",
     "output_type": "stream",
     "text": [
      "took 52.639 seconds to train the xgboost model\n",
      "the auc of the model is: 0.6317687428502723\n",
      "the auc value of the model on 2016 test data is: 0.751\n"
     ]
    }
   ],
   "source": [
    "t0 = time.time()\n",
    "xgb_current = XGBClassifier(learning_rate =0.1, n_estimators=140, subsample=0.8, gamma=0.3, colsample_bytree=0.8, \n",
    "                    objective= 'binary:logistic', nthread=4, max_depth=3, min_child_weight=1,\n",
    "                    scale_pos_weight=1, seed=1)\n",
    "\n",
    "xgb_current.fit(X_train_current, y_train_current.loan_status.values.ravel())\n",
    "y_test_current_pred = xgb_current.predict(X_test_current)\n",
    "t1 = time.time()\n",
    "y_test_auc = roc_auc_score(y_test_current.loan_status.values, y_test_current_pred)\n",
    "print(\"took {} seconds to train the xgboost model\".format(round(t1 - t0, 3)))\n",
    "print(\"the auc of the model is: {}\".format(y_test_auc))\n",
    "\n",
    "y_ls_test_current_pred = xgb_current.predict(test_current)\n",
    "y_ls_test_auc = roc_auc_score(test_current_loan.loan_status.values, y_ls_test_current_pred)\n",
    "\n",
    "print(\"the auc value of the model on 2016 test data is: {}\".format(round(y_ls_test_auc, 3)))"
   ]
  },
  {
   "cell_type": "code",
   "execution_count": 102,
   "metadata": {},
   "outputs": [
    {
     "name": "stdout",
     "output_type": "stream",
     "text": [
      "took 54.605 seconds to train the xgboost model\n",
      "the auc of the model is: 0.6308793940368913\n",
      "the auc value of the model on 2016 test data is: 0.764\n"
     ]
    }
   ],
   "source": [
    "# with selected squared features\n",
    "# xgboost\n",
    "t0 = time.time()\n",
    "xgb_current = XGBClassifier(learning_rate =0.1, n_estimators=140, subsample=0.8, gamma=0.3, colsample_bytree=0.8, \n",
    "                    objective= 'binary:logistic', nthread=4, max_depth=3, min_child_weight=1,\n",
    "                    scale_pos_weight=1, seed=1)\n",
    "\n",
    "xgb_current.fit(X_train_current_assem_2, y_train_current.loan_status.values.ravel())\n",
    "y_test_current_pred = xgb_current.predict(X_test_current_assem_2)\n",
    "t1 = time.time()\n",
    "y_test_auc = roc_auc_score(y_test_current.loan_status.values, y_test_current_pred)\n",
    "print(\"took {} seconds to train the xgboost model\".format(round(t1 - t0, 3)))\n",
    "print(\"the auc of the model is: {}\".format(y_test_auc))\n",
    "\n",
    "y_ls_test_current_pred = xgb_current.predict(test_current_assem_2)\n",
    "y_ls_test_auc = roc_auc_score(test_current_loan.loan_status.values, y_ls_test_current_pred)\n",
    "\n",
    "print(\"the auc value of the model on 2016 test data is: {}\".format(round(y_ls_test_auc, 3)))"
   ]
  },
  {
   "cell_type": "code",
   "execution_count": 103,
   "metadata": {},
   "outputs": [
    {
     "name": "stdout",
     "output_type": "stream",
     "text": [
      "took 46.441 seconds to train the xgboost model\n",
      "the auc of the model is: 0.6308793940368913\n",
      "the auc value of the model on 2016 test data is: 0.764\n"
     ]
    }
   ],
   "source": [
    "# with selected cubic features\n",
    "# xgboost\n",
    "t0 = time.time()\n",
    "xgb_current = XGBClassifier(learning_rate =0.1, n_estimators=140, subsample=0.8, gamma=0.3, colsample_bytree=0.8, \n",
    "                    objective= 'binary:logistic', nthread=4, max_depth=3, min_child_weight=1,\n",
    "                    scale_pos_weight=1, seed=1)\n",
    "\n",
    "xgb_current.fit(X_train_current_assem_3, y_train_current.loan_status.values.ravel())\n",
    "y_test_current_pred = xgb_current.predict(X_test_current_assem_3)\n",
    "t1 = time.time()\n",
    "y_test_auc = roc_auc_score(y_test_current.loan_status.values, y_test_current_pred)\n",
    "print(\"took {} seconds to train the xgboost model\".format(round(t1 - t0, 3)))\n",
    "print(\"the auc of the model is: {}\".format(y_test_auc))\n",
    "\n",
    "y_ls_test_current_pred = xgb_current.predict(test_current_assem_3)\n",
    "y_ls_test_auc = roc_auc_score(test_current_loan.loan_status.values, y_ls_test_current_pred)\n",
    "\n",
    "print(\"the auc value of the model on 2016 test data is: {}\".format(round(y_ls_test_auc, 3)))"
   ]
  },
  {
   "cell_type": "code",
   "execution_count": 104,
   "metadata": {},
   "outputs": [
    {
     "name": "stdout",
     "output_type": "stream",
     "text": [
      "took 55.64 seconds to train the xgboost model\n",
      "the auc of the model is: 0.6294173525251272\n",
      "the auc value of the model on 2016 test data is: 0.748\n"
     ]
    }
   ],
   "source": [
    "# with selected cubic features\n",
    "# xgboost\n",
    "t0 = time.time()\n",
    "xgb_current = XGBClassifier(learning_rate =0.1, n_estimators=140, subsample=0.8, gamma=0.3, colsample_bytree=0.8, \n",
    "                    objective= 'binary:logistic', nthread=4, max_depth=3, min_child_weight=1,\n",
    "                    scale_pos_weight=1, seed=1)\n",
    "\n",
    "xgb_current.fit(X_train_current_assem_bt, y_train_current.loan_status.values.ravel())\n",
    "y_test_current_pred = xgb_current.predict(X_test_current_assem_bt)\n",
    "t1 = time.time()\n",
    "y_test_auc = roc_auc_score(y_test_current.loan_status.values, y_test_current_pred)\n",
    "print(\"took {} seconds to train the xgboost model\".format(round(t1 - t0, 3)))\n",
    "print(\"the auc of the model is: {}\".format(y_test_auc))\n",
    "\n",
    "y_ls_test_current_pred = xgb_current.predict(test_current_assem_bt)\n",
    "y_ls_test_auc = roc_auc_score(test_current_loan.loan_status.values, y_ls_test_current_pred)\n",
    "\n",
    "print(\"the auc value of the model on 2016 test data is: {}\".format(round(y_ls_test_auc, 3)))"
   ]
  },
  {
   "cell_type": "code",
   "execution_count": 134,
   "metadata": {},
   "outputs": [],
   "source": [
    "model_result = pd.DataFrame({'model':['SVM', 'KNN', 'Logistic Regression', 'Random Forest', 'Naive Bayes', \n",
    "                         'Naive Bayes + more features', 'xgboost','xgboost + more features'],\n",
    "               'past': [0.5, 0.519, 0.868, 0.874, 0.875, 0.927, 0.866, 0.868],\n",
    "               'current': [0.5, 0.501, 0.678, 0.751, 0.731, 0.736, 0.751, 0.764]})\n",
    "\n",
    "\n",
    "model_result = model_result.sort_values(by = ['past', 'current'])\n",
    "#  result = df.sort(['A', 'B'], ascending=[1, 0])\n",
    "# sorted_null_info = tab_info.loc['null_values_pct', :].sort_values(ascending=False)\n",
    "# missing_data = pd.DataFrame({'missing ratio': sorted_null_info})\n",
    "\n",
    "# f, ax = plt.subplots(figsize=(15, 10))\n",
    "# plt.xticks(rotation='90')\n",
    "# sns.barplot(x=missing_data.index[:70], y=missing_data['missing ratio'].values[:70])\n",
    "# plt.xlabel('Features', fontsize=15)\n",
    "# plt.ylabel('Percent of missing values', fontsize=15)\n",
    "# plt.title('Percent missing data by feature', fontsize=15)\n"
   ]
  },
  {
   "cell_type": "code",
   "execution_count": 139,
   "metadata": {},
   "outputs": [
    {
     "data": {
      "text/html": [
       "<div>\n",
       "<style>\n",
       "    .dataframe thead tr:only-child th {\n",
       "        text-align: right;\n",
       "    }\n",
       "\n",
       "    .dataframe thead th {\n",
       "        text-align: left;\n",
       "    }\n",
       "\n",
       "    .dataframe tbody tr th {\n",
       "        vertical-align: top;\n",
       "    }\n",
       "</style>\n",
       "<table border=\"1\" class=\"dataframe\">\n",
       "  <thead>\n",
       "    <tr style=\"text-align: right;\">\n",
       "      <th></th>\n",
       "      <th>current</th>\n",
       "      <th>model</th>\n",
       "      <th>past</th>\n",
       "    </tr>\n",
       "  </thead>\n",
       "  <tbody>\n",
       "    <tr>\n",
       "      <th>0</th>\n",
       "      <td>0.500</td>\n",
       "      <td>SVM</td>\n",
       "      <td>0.500</td>\n",
       "    </tr>\n",
       "    <tr>\n",
       "      <th>1</th>\n",
       "      <td>0.501</td>\n",
       "      <td>KNN</td>\n",
       "      <td>0.519</td>\n",
       "    </tr>\n",
       "    <tr>\n",
       "      <th>6</th>\n",
       "      <td>0.751</td>\n",
       "      <td>xgboost</td>\n",
       "      <td>0.866</td>\n",
       "    </tr>\n",
       "    <tr>\n",
       "      <th>2</th>\n",
       "      <td>0.678</td>\n",
       "      <td>Logistic Regression</td>\n",
       "      <td>0.868</td>\n",
       "    </tr>\n",
       "    <tr>\n",
       "      <th>7</th>\n",
       "      <td>0.764</td>\n",
       "      <td>xgboost + more features</td>\n",
       "      <td>0.868</td>\n",
       "    </tr>\n",
       "    <tr>\n",
       "      <th>3</th>\n",
       "      <td>0.751</td>\n",
       "      <td>Random Forest</td>\n",
       "      <td>0.874</td>\n",
       "    </tr>\n",
       "    <tr>\n",
       "      <th>4</th>\n",
       "      <td>0.731</td>\n",
       "      <td>Naive Bayes</td>\n",
       "      <td>0.875</td>\n",
       "    </tr>\n",
       "    <tr>\n",
       "      <th>5</th>\n",
       "      <td>0.736</td>\n",
       "      <td>Naive Bayes + more features</td>\n",
       "      <td>0.927</td>\n",
       "    </tr>\n",
       "  </tbody>\n",
       "</table>\n",
       "</div>"
      ],
      "text/plain": [
       "   current                        model   past\n",
       "0    0.500                          SVM  0.500\n",
       "1    0.501                          KNN  0.519\n",
       "6    0.751                      xgboost  0.866\n",
       "2    0.678          Logistic Regression  0.868\n",
       "7    0.764      xgboost + more features  0.868\n",
       "3    0.751                Random Forest  0.874\n",
       "4    0.731                  Naive Bayes  0.875\n",
       "5    0.736  Naive Bayes + more features  0.927"
      ]
     },
     "execution_count": 139,
     "metadata": {},
     "output_type": "execute_result"
    }
   ],
   "source": [
    "model_result "
   ]
  },
  {
   "cell_type": "code",
   "execution_count": 145,
   "metadata": {},
   "outputs": [
    {
     "data": {
      "image/png": "[encoded data removed]",
      "text/plain": [
       "<matplotlib.figure.Figure at 0x129b24ba8>"
      ]
     },
     "metadata": {},
     "output_type": "display_data"
    }
   ],
   "source": [
    "\n",
    "import matplotlib.pyplot as plt\n",
    "import seaborn as sns\n",
    "\n",
    "f, ax = plt.subplots(figsize=(10, 8))\n",
    "sns.set_style(\"darkgrid\")\n",
    "plt.xticks(rotation='90')\n",
    "plt.xlabel('model', fontsize=15)\n",
    "plt.ylabel('AUC', fontsize=15)\n",
    "plt.title('AUC value by model', fontsize=15)\n",
    "p1 = plt.scatter(model_result.model, model_result.current, label=\"current\")\n",
    "p2 = plt.scatter(model_result.model, model_result.past, label='past')\n",
    "plt.legend((p1, p2), ('current', 'past'))\n",
    "plt.show()\n"
   ]
  },
  {
   "cell_type": "code",
   "execution_count": null,
   "metadata": {},
   "outputs": [],
   "source": []
  }
 ],
 "metadata": {
  "kernelspec": {
   "display_name": "Python 3",
   "language": "python",
   "name": "python3"
  },
  "language_info": {
   "codemirror_mode": {
    "name": "ipython",
    "version": 3
   },
   "file_extension": ".py",
   "mimetype": "text/x-python",
   "name": "python",
   "nbconvert_exporter": "python",
   "pygments_lexer": "ipython3",
   "version": "3.6.3"
  }
 },
 "nbformat": 4,
 "nbformat_minor": 2
}
